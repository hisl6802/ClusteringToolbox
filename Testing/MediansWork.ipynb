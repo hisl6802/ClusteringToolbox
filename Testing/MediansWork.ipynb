{
 "cells": [
  {
   "cell_type": "code",
   "execution_count": 2,
   "metadata": {},
   "outputs": [],
   "source": [
    "# from GUIUtils import GUIUtils as GU\n",
    "\n",
    "\n",
    "# medians = GU.groupMedians()"
   ]
  },
  {
   "cell_type": "code",
   "execution_count": 22,
   "metadata": {},
   "outputs": [],
   "source": [
    "import pandas as pd\n",
    "\n",
    "#getting the needed data. \n",
    "file = 'ECCO_check.xlsx'\n",
    "df = pd.read_excel(file)\n",
    "rt = df[list(df.columns)[-1]]\n",
    "mz = df[list(df.columns)[0]]\n",
    "\n",
    "#transpose the matrix to get what I want.\n",
    "df = df.T\n",
    "\n",
    "out = df.groupby([0]).median()\n",
    "out = out.T\n",
    "\n",
    "out.insert(0,\"mz\",mz)\n",
    "out.insert(out.shape[1],\"rtmed\",rt)\n",
    "\n",
    "#set up a place holder with first and last places as None\n",
    "ph = [i for i in range(0,out.shape[1])]\n",
    "ph[0] = None;ph[-1]=None\n",
    "out.loc[0,list(out.columns)] = ph\n",
    "\n",
    "out = out.sort_index(ascending=True)\n",
    "outFile = file[:-5]\n",
    "outFile += \"_medians.xlsx\"\n",
    "out.to_excel(outFile,index=False)"
   ]
  },
  {
   "cell_type": "code",
   "execution_count": 21,
   "metadata": {},
   "outputs": [
    {
     "data": {
      "text/plain": [
       "'ECCO_check_medians.xlsx'"
      ]
     },
     "execution_count": 21,
     "metadata": {},
     "output_type": "execute_result"
    }
   ],
   "source": [
    "outFile"
   ]
  },
  {
   "cell_type": "code",
   "execution_count": null,
   "metadata": {},
   "outputs": [],
   "source": []
  }
 ],
 "metadata": {
  "kernelspec": {
   "display_name": "base",
   "language": "python",
   "name": "python3"
  },
  "language_info": {
   "codemirror_mode": {
    "name": "ipython",
    "version": 3
   },
   "file_extension": ".py",
   "mimetype": "text/x-python",
   "name": "python",
   "nbconvert_exporter": "python",
   "pygments_lexer": "ipython3",
   "version": "3.11.4"
  }
 },
 "nbformat": 4,
 "nbformat_minor": 2
}
