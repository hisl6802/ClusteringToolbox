{
 "cells": [
  {
   "cell_type": "code",
   "execution_count": 8,
   "metadata": {},
   "outputs": [
    {
     "name": "stderr",
     "output_type": "stream",
     "text": [
      "/var/folders/1d/ksvrky2d2gx960mpf77bmbxw0000gn/T/ipykernel_25580/2798581080.py:56: SettingWithCopyWarning: \n",
      "A value is trying to be set on a copy of a slice from a DataFrame\n",
      "\n",
      "See the caveats in the documentation: https://pandas.pydata.org/pandas-docs/stable/user_guide/indexing.html#returning-a-view-versus-a-copy\n",
      "  dFDict[i]['Enzyme #s'][0] = record.enzyme\n"
     ]
    }
   ],
   "source": [
    "import pandas as pd\n",
    "from Bio.KEGG import REST\n",
    "from Bio.KEGG import Compound\n",
    "\n",
    "numSheets = 1 \n",
    "#have the user select the file they would like to have read in.\n",
    "filename = 'ExampleEnzymeLookUp.xlsx'\n",
    "\n",
    "#heatmapEnzyme Outputs\n",
    "outFile = 'HeatmapEnzyme.xlsx'\n",
    "writer = pd.ExcelWriter(outFile, engine='xlsxwriter')\n",
    "\n",
    "for i in range(numSheets):\n",
    "    #read in each sheet\n",
    "    dataCur = pd.read_excel(filename,sheet_name=i)\n",
    "    dFDict = {}\n",
    "    #get the compounds and determine how many pathways hits there are.\n",
    "    for j in range(len(dataCur['Cpd.Hits'])):\n",
    "        #for the current compound hits find the length\n",
    "        CpdList = dataCur['Cpd.Hits'][j]\n",
    "\n",
    "        #split the current list by ;\n",
    "        CpdList = CpdList.split(';')\n",
    "        \n",
    "        for k in range(len(CpdList)):\n",
    "            #get the enzyme numbers from KEGG\n",
    "            try:\n",
    "                request = REST.kegg_get(CpdList[k])\n",
    "\n",
    "            except:\n",
    "                print(\"Cannot find compound, this should not happen\")\n",
    "\n",
    "            txtFCur = CpdList[k] + '.txt'\n",
    "            open(txtFCur,'w').write(request.read())\n",
    "            \n",
    "            records = Compound.parse(open(txtFCur))\n",
    "\n",
    "            #get the record of the compound currently being looked up.\n",
    "            try:\n",
    "                record = list(records)[0]\n",
    "            except:\n",
    "                print(': Almost for sure a glycan was found.')\n",
    "\n",
    "            if k == 0 and j == 0:\n",
    "                dict = {'Cluster #':[i+1],\n",
    "                        'Pathway':dataCur['Pathway'][0],\n",
    "                        'Pathway Total':dataCur['Pathway total'][0],\n",
    "                        'Hits.total':dataCur['Hits.total'][0],\n",
    "                        'Hits.sig':dataCur['Hits.sig'][0],\n",
    "                        'Gamma':dataCur['Gamma'][0],\n",
    "                        'Cpd.Hits':CpdList[0],\n",
    "                        'Enzyme #s':['hi']\n",
    "                        }\n",
    "                #create a spreadsheet for the current hits\n",
    "                dFDict[i] = pd.DataFrame(dict)\n",
    "                dFDict[i]['Enzyme #s'][0] = record.enzyme\n",
    "            \n",
    "            elif k == 0 and j !=0:\n",
    "                #create a spreadsheet for the current hits\n",
    "                dFDict[i].loc[len(dFDict[i].index)] = [i+1,dataCur['Pathway'][j],dataCur['Pathway total'][j],dataCur['Hits.total'][j],dataCur['Hits.sig'][j],dataCur['Gamma'][j],CpdList[0], record.enzyme]\n",
    "\n",
    "            else:\n",
    "                dFDict[i].loc[len(dFDict[i].index)] = [None,None,None,None,None,None,CpdList[k],record.enzyme]\n",
    "\n",
    "    dFDict[i].to_excel(writer,sheet_name=str(i+1))\n",
    "try:\n",
    "    writer.close()\n",
    "except:\n",
    "    print('No worky')"
   ]
  },
  {
   "cell_type": "code",
   "execution_count": 7,
   "metadata": {},
   "outputs": [],
   "source": [
    "import pandas as pd\n",
    "\n",
    "# Create a DataFrame\n",
    "df = pd.DataFrame({'Data': [10, 20, 30, 40]})\n",
    "\n",
    "# Create a Pandas Excel writer using XlsxWriter as the engine.\n",
    "writer = pd.ExcelWriter('Heatmap.xlsx', engine='xlsxwriter')\n",
    "\n",
    "# Write the DataFrame to the Excel file\n",
    "df.to_excel(writer, sheet_name='Sheet1')\n",
    "\n",
    "# Close the Pandas Excel writer and save the Excel file\n",
    "writer.close()\n"
   ]
  }
 ],
 "metadata": {
  "kernelspec": {
   "display_name": "base",
   "language": "python",
   "name": "python3"
  },
  "language_info": {
   "codemirror_mode": {
    "name": "ipython",
    "version": 3
   },
   "file_extension": ".py",
   "mimetype": "text/x-python",
   "name": "python",
   "nbconvert_exporter": "python",
   "pygments_lexer": "ipython3",
   "version": "3.11.4"
  }
 },
 "nbformat": 4,
 "nbformat_minor": 2
}
