{
 "cells": [
  {
   "cell_type": "markdown",
   "metadata": {},
   "source": [
    "# Evaluating how the Mutual Information score works\n",
    "## Looking into the three forms of the mutual information score\n",
    "$MI(U,V) = \\sum_{i=1}^{\\lvert U \\rvert} \\sum_{j=1}^{\\lvert V \\rvert} \\frac{\\lvert U_i \\cap V_i \\rvert}{N} log\\frac{N \\lvert U_i \\cap V_i \\rvert}{\\lvert U_i\\rvert \\lvert V_i \\rvert}$\n",
    "\n",
    "- Normalized mutual information adjusts the scores to be between 0 and 1, the default mode being the 'arithmetic' mean\n",
    "- Adjusted mutual infomration adjusts for chance. "
   ]
  },
  {
   "cell_type": "code",
   "execution_count": 2,
   "metadata": {},
   "outputs": [],
   "source": [
    "import sklearn.metrics as metrics"
   ]
  },
  {
   "cell_type": "markdown",
   "metadata": {},
   "source": [
    "### Creating simple labels to test peformance including when there are three clusters in one and two clusters in another solution. "
   ]
  },
  {
   "cell_type": "code",
   "execution_count": 4,
   "metadata": {},
   "outputs": [
    {
     "name": "stdout",
     "output_type": "stream",
     "text": [
      "0.6931471805599452\n",
      "1.0\n",
      "1.0\n"
     ]
    }
   ],
   "source": [
    "x = [0,0,0,1,1,1]\n",
    "y = [1,1,1,0,0,0]\n",
    "\n",
    "print(metrics.adjusted_mutual_info_score(x,y))\n",
    "print(metrics.normalized_mutual_info_score(x,y))"
   ]
  }
 ],
 "metadata": {
  "kernelspec": {
   "display_name": "base",
   "language": "python",
   "name": "python3"
  },
  "language_info": {
   "codemirror_mode": {
    "name": "ipython",
    "version": 3
   },
   "file_extension": ".py",
   "mimetype": "text/x-python",
   "name": "python",
   "nbconvert_exporter": "python",
   "pygments_lexer": "ipython3",
   "version": "3.11.4"
  }
 },
 "nbformat": 4,
 "nbformat_minor": 2
}
